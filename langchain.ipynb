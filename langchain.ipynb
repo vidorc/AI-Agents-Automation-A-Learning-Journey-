{
  "nbformat": 4,
  "nbformat_minor": 0,
  "metadata": {
    "colab": {
      "provenance": [],
      "authorship_tag": "ABX9TyM7FTooHkSK9viH1PbR43T4",
      "include_colab_link": true
    },
    "kernelspec": {
      "name": "python3",
      "display_name": "Python 3"
    },
    "language_info": {
      "name": "python"
    }
  },
  "cells": [
    {
      "cell_type": "markdown",
      "metadata": {
        "id": "view-in-github",
        "colab_type": "text"
      },
      "source": [
        "<a href=\"https://colab.research.google.com/github/vidorc/AI-Agents-Automation-A-Learning-Journey-/blob/main/langchain.ipynb\" target=\"_parent\"><img src=\"https://colab.research.google.com/assets/colab-badge.svg\" alt=\"Open In Colab\"/></a>"
      ]
    },
    {
      "cell_type": "code",
      "execution_count": 1,
      "metadata": {
        "id": "VRhwlB2Aiwd7"
      },
      "outputs": [],
      "source": [
        "import random\n",
        "\n",
        "class NakliLLM:\n",
        "\n",
        "  def __init__(self):\n",
        "    print('LLM created')\n",
        "\n",
        "  def predict(self, prompt):\n",
        "\n",
        "    response_list = [\n",
        "        'Delhi is the capital of India',\n",
        "        'IPL is a cricket league',\n",
        "        'AI stands for Artificial Intelligence'\n",
        "    ]\n",
        "\n",
        "    return {'response': random.choice(response_list)}"
      ]
    },
    {
      "cell_type": "code",
      "source": [
        "class NakliPromptTemplate:\n",
        "  def __init__(self,template,input_variables):\n",
        "    self.template = template\n",
        "    self.input_variables = input_variables\n",
        "  def format(self , input_dict):\n",
        "    return self.template.format(**input_dict)"
      ],
      "metadata": {
        "id": "tWizPsAcjQKI"
      },
      "execution_count": 2,
      "outputs": []
    },
    {
      "cell_type": "code",
      "source": [
        "template = NakliPromptTemplate(template='Write a {length} story about {topic}.', input_variables=['length', 'topic'])\n",
        "prompt = template.format({'length':'short','topic':'india'})"
      ],
      "metadata": {
        "id": "4nWmCI62jQk9"
      },
      "execution_count": 4,
      "outputs": []
    },
    {
      "cell_type": "code",
      "source": [
        "class NakliLLMChain:\n",
        "  def __init__(self,llm,prompt):\n",
        "    self.llm = llm\n",
        "    self.prompt = prompt\n",
        "  def run(self , input_dict):\n",
        "    return self.llm.predict(self.prompt)\n",
        "final_prompt = NakliLLMChain(llm=NakliLLM(),prompt=prompt)\n",
        "result = final_prompt.run({})"
      ],
      "metadata": {
        "colab": {
          "base_uri": "https://localhost:8080/"
        },
        "id": "bmTj6uo7jzku",
        "outputId": "ae060716-bb99-4afe-82af-1611d55ae10e"
      },
      "execution_count": 8,
      "outputs": [
        {
          "output_type": "stream",
          "name": "stdout",
          "text": [
            "LLM created\n"
          ]
        }
      ]
    },
    {
      "cell_type": "code",
      "source": [
        "template_string = 'write a  {length} poem about {topic}'\n",
        "input_variables = ['length','topic']"
      ],
      "metadata": {
        "id": "L2hKYdS1kTzf"
      },
      "execution_count": 11,
      "outputs": []
    },
    {
      "cell_type": "code",
      "source": [],
      "metadata": {
        "id": "5EZwI-VZlCmN"
      },
      "execution_count": null,
      "outputs": []
    }
  ]
}